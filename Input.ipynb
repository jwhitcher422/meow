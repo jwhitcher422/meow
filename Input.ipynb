{
  "nbformat": 4,
  "nbformat_minor": 0,
  "metadata": {
    "colab": {
      "provenance": [],
      "include_colab_link": true
    },
    "kernelspec": {
      "name": "python3",
      "display_name": "Python 3"
    },
    "language_info": {
      "name": "python"
    }
  },
  "cells": [
    {
      "cell_type": "markdown",
      "metadata": {
        "id": "view-in-github",
        "colab_type": "text"
      },
      "source": [
        "<a href=\"https://colab.research.google.com/github/jwhitcher422/meow/blob/main/Input.ipynb\" target=\"_parent\"><img src=\"https://colab.research.google.com/assets/colab-badge.svg\" alt=\"Open In Colab\"/></a>"
      ]
    },
    {
      "cell_type": "markdown",
      "source": [
        "# User input in Python\n",
        "\n",
        "## Objective\n",
        "1. Understand how ```input()``` function is applied.\n",
        "\n",
        "## Prerequisite\n",
        "\n",
        "- Python literals lecture & lab\n",
        "- Programming variables lecture\n",
        "\n",
        "## What do you need to complete this exercise?\n",
        "\n",
        "You can perform this exercise in any Python IDE, including JupyterLab or Google Colab.\n"
      ],
      "metadata": {
        "id": "2ITy4ycVFXBq"
      }
    },
    {
      "cell_type": "markdown",
      "source": [
        "### User input\n",
        "\n",
        "a. Write a program that prompts the user to enter the weight of a person in kilograms and outputs the equivalent weight in pounds. (Note that 1 kilogram = 2.2 pounds)."
      ],
      "metadata": {
        "id": "uQxH0KO0tsDc"
      }
    },
    {
      "cell_type": "code",
      "source": [
        "kilogram=2.2\n",
        "kilogram=float(input(\"enter the weight of the person in kilogram with decimals:\"))\n",
        "weight=kilogram*2.2\n",
        "print(weight)\n"
      ],
      "metadata": {
        "colab": {
          "base_uri": "https://localhost:8080/"
        },
        "id": "N3wgQQ672rWR",
        "outputId": "58ff6b58-e45e-4499-cd78-160a89323915"
      },
      "execution_count": 2,
      "outputs": [
        {
          "output_type": "stream",
          "name": "stdout",
          "text": [
            "enter the weight of the person in kilogram with decimals:52.2\n",
            "114.84000000000002\n"
          ]
        }
      ]
    },
    {
      "cell_type": "markdown",
      "source": [
        "b. Interest on a credit card's unpaid balance is calculated using the average daily balance. Suppose that $netBalance$ is the balance shown in the bill, $payment$ is the payment made, $d1$ is the number of days in the billing cycle, and $d2$ is the number of days payment is made before biling cycle. Then, the average daily balance is: $$averageDailybalance = (netBalance \\times d1 - payment \\times d2)/d1$$.\n",
        "\n",
        "If the interest rate per month is, say, 0.0152, then the interest on the unpaid balance is: $interest = averageDailyBalance \\times 0.0152$\n",
        "\n",
        "Write a program that accepts as input $netBalance$, $payment$, $d1$, $d2$, and $interest rate per month$. The program outputs the interest."
      ],
      "metadata": {
        "id": "2ou6B-5b2ws3"
      }
    },
    {
      "cell_type": "code",
      "source": [
        "interestratepermonth:0.0152\n",
        "d1=31.0\n",
        "d2=1.0\n",
        "netbalance=1.0\n",
        "payment=1.0\n",
        "averagedailybalance=((netbalance*d1-payment*d2)/d1)\n",
        "interest=averagedailybalance*0.0152\n",
        "netBalance=float(input(\"enter the net balance of the account to the decimal\"))\n",
        "payment=float(input(\"enter the amount you would like to make as a payment to the decimal\"))\n",
        "d2=float(input(\"enter number of days this payment was made before billing cycle\"))\n",
        "averagedailybalance=((netbalance*d1-payment*d2)/d1)\n",
        "interest=averagedailybalance*0.0152\n",
        "print(averagedailybalance)\n",
        "print(interest)"
      ],
      "metadata": {
        "id": "pqP70bD02x9h",
        "outputId": "c15b675f-35c4-4557-8055-a3f1d9573138",
        "colab": {
          "base_uri": "https://localhost:8080/"
        }
      },
      "execution_count": 16,
      "outputs": [
        {
          "output_type": "stream",
          "name": "stdout",
          "text": [
            "enter the net balance of the account to the decimal1500\n",
            "enter the amount you would like to make as a payment to the decimal500\n",
            "enter number of days this payment was made before billing cycle3\n",
            "-47.38709677419355\n",
            "-0.7202838709677419\n"
          ]
        }
      ]
    },
    {
      "cell_type": "markdown",
      "source": [
        "c. Two cars A and B leave an intersection at the same time. Car A travels west at an average speed of x miles per hour and car B travels south at an average speed of y miles per hour. Write a program that prompts the user to enter the average speed of both the cars and the elapsed time (in hours and minutes) and outputs the (shortest) distance between the cars."
      ],
      "metadata": {
        "id": "gAxw_xVk25qO"
      }
    },
    {
      "cell_type": "code",
      "source": [
        "car_a=1.0\n",
        "car_b=1.0\n",
        "averagespeed=(car_a+car_b)/2\n",
        "car_a=float(input(\"enter the average speed of car a in decimal:\"))\n",
        "car_b=float(input(\"enter the average speed of car b in decimal:\"))\n",
        "averagespeed=(car_a+car_b)/2\n",
        "print(averagespeed)"
      ],
      "metadata": {
        "id": "nMPuZXsH26nW",
        "outputId": "5931dce2-3e22-48c0-afa3-e2b23e192982",
        "colab": {
          "base_uri": "https://localhost:8080/"
        }
      },
      "execution_count": 8,
      "outputs": [
        {
          "output_type": "stream",
          "name": "stdout",
          "text": [
            "enter the average speed of car a in decimal:50\n",
            "enter the average speed of car b in decimal:35\n",
            "42.5\n"
          ]
        }
      ]
    },
    {
      "cell_type": "markdown",
      "source": [
        "### Troubleshooting\n",
        "\n",
        "Please troubleshoot the following issue **without using Python**, and explain your reasoning.\n",
        "\n",
        "a. ```hello = \"hello\"```  \n",
        "b. ```_var = 100```  \n",
        "c. ```!var_1 = 200```  \n",
        "d. ```print = \"print me\"```  \n",
        "e. ```False = 0```  "
      ],
      "metadata": {
        "id": "V0l5fqK-NJ2n"
      }
    },
    {
      "cell_type": "markdown",
      "source": [
        "Write your answer here"
      ],
      "metadata": {
        "id": "Cz8CqobPNO8n"
      }
    },
    {
      "cell_type": "markdown",
      "source": [
        "## Challenges\n",
        "\n",
        "Please describe the challenges you faced during the exercise."
      ],
      "metadata": {
        "id": "xQzjxKdvvbyo"
      }
    },
    {
      "cell_type": "markdown",
      "source": [
        "Confused on the interest one"
      ],
      "metadata": {
        "id": "qfJNpTB5EbY4"
      }
    }
  ]
}